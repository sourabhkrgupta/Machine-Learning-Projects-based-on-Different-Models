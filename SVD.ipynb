{
 "cells": [
  {
   "cell_type": "code",
   "execution_count": 1,
   "id": "d9adb25f-c784-43a4-8aee-25c331bc2bec",
   "metadata": {},
   "outputs": [],
   "source": [
    "import numpy as np\n",
    "import pandas as pd"
   ]
  },
  {
   "cell_type": "markdown",
   "id": "dbe1d4ef-543b-4cd7-93be-db903eebb58e",
   "metadata": {},
   "source": [
    "### Importing & Parsing the dataset as ratings and movies details"
   ]
  },
  {
   "cell_type": "code",
   "execution_count": 2,
   "id": "3b9d4736-c98e-4aeb-9bac-eac60527bd3a",
   "metadata": {},
   "outputs": [],
   "source": [
    "ratingData = pd.io.parsers.read_csv('ratings.dat',\n",
    "                                    names=['user_id','movie_id','rating','time'],\n",
    "                                   engine='python',delimiter='::')"
   ]
  },
  {
   "cell_type": "code",
   "execution_count": 5,
   "id": "a578e7f8-d54e-4ae1-97f1-21da229566e8",
   "metadata": {},
   "outputs": [],
   "source": [
    "movieData = pd.io.parsers.read_csv('movies.dat',\n",
    "    names=['movie_id', 'title', 'genre'],\n",
    "    engine='python', delimiter='::',encoding='ISO-8859-1')"
   ]
  },
  {
   "cell_type": "code",
   "execution_count": 7,
   "id": "8960742b-75d7-4c27-8e00-62288fc80711",
   "metadata": {},
   "outputs": [
    {
     "name": "stdout",
     "output_type": "stream",
     "text": [
      "   user_id  movie_id  rating       time\n",
      "0        1      1193       5  978300760\n",
      "1        1       661       3  978302109\n",
      "2        1       914       3  978301968\n",
      "3        1      3408       4  978300275\n",
      "4        1      2355       5  978824291\n"
     ]
    }
   ],
   "source": [
    "print(ratingData.head())"
   ]
  },
  {
   "cell_type": "markdown",
   "id": "a4986f09-7d0d-4f7b-96d2-ae6155e86190",
   "metadata": {},
   "source": [
    "### Create the ratings matrix of shape(m*u)"
   ]
  },
  {
   "cell_type": "code",
   "execution_count": 6,
   "id": "63f7b591-5ac3-42cf-8bbc-971edfc7f2f6",
   "metadata": {},
   "outputs": [
    {
     "name": "stdout",
     "output_type": "stream",
     "text": [
      "[[5 0 0 ... 0 0 3]\n",
      " [0 0 0 ... 0 0 0]\n",
      " [0 0 0 ... 0 0 0]\n",
      " ...\n",
      " [0 0 0 ... 0 0 0]\n",
      " [0 0 0 ... 0 0 0]\n",
      " [0 0 0 ... 0 0 0]]\n"
     ]
    }
   ],
   "source": [
    "ratingMatrix = np.ndarray(\n",
    "    shape=(np.max(ratingData.movie_id.values), np.max(ratingData.user_id.values)),\n",
    "    dtype=np.uint8)\n",
    "ratingMatrix[ratingData.movie_id.values-1, ratingData.user_id.values-1] = ratingData.rating.values\n",
    "print(ratingMatrix)"
   ]
  },
  {
   "cell_type": "markdown",
   "id": "39b9deb1-43cc-4728-9ae4-b058ba8cf899",
   "metadata": {},
   "source": [
    "### Subtract Mean off - Normalization"
   ]
  },
  {
   "cell_type": "code",
   "execution_count": 9,
   "id": "e61d75a7-ff7e-4c27-be94-a9057faaa512",
   "metadata": {},
   "outputs": [
    {
     "name": "stdout",
     "output_type": "stream",
     "text": [
      "[[ 3.57400662 -1.42599338 -1.42599338 ... -1.42599338 -1.42599338\n",
      "   1.57400662]\n",
      " [-0.37152318 -0.37152318 -0.37152318 ... -0.37152318 -0.37152318\n",
      "  -0.37152318]\n",
      " [-0.23874172 -0.23874172 -0.23874172 ... -0.23874172 -0.23874172\n",
      "  -0.23874172]\n",
      " ...\n",
      " [-0.03278146 -0.03278146 -0.03278146 ... -0.03278146 -0.03278146\n",
      "  -0.03278146]\n",
      " [-0.02582781 -0.02582781 -0.02582781 ... -0.02582781 -0.02582781\n",
      "  -0.02582781]\n",
      " [-0.24288079 -0.24288079 -0.24288079 ... -0.24288079 -0.24288079\n",
      "  -0.24288079]]\n"
     ]
    }
   ],
   "source": [
    "normalizedMatrix = ratingMatrix - np.asarray([(np.mean(ratingMatrix, 1))]).T\n",
    "print(normalizedMatrix)"
   ]
  },
  {
   "cell_type": "code",
   "execution_count": 10,
   "id": "5c10449e-6b36-452d-9be2-d604c2c6223a",
   "metadata": {},
   "outputs": [],
   "source": [
    "A = normalizedMatrix.T / np.sqrt(ratingMatrix.shape[0] - 1)\n",
    "U, S, V = np.linalg.svd(A)"
   ]
  },
  {
   "cell_type": "code",
   "execution_count": 11,
   "id": "1cdb3d6b-64ba-4b25-846d-ceaca6a30b5d",
   "metadata": {},
   "outputs": [],
   "source": [
    "def similar(ratingData, movie_id, top_n):\n",
    "    index = movie_id - 1 # Movie id starts from 1\n",
    "    movie_row = ratingData[index, :]\n",
    "    magnitude = np.sqrt(np.einsum('ij, ij -> i', ratingData, ratingData)) #Einstein summation |  traditional matrix multiplication and is equivalent to np.matmul(a,b)\n",
    "    similarity = np.dot(movie_row, ratingData.T) / (magnitude[index] * magnitude)\n",
    "    sort_indexes = np.argsort(-similarity) #Perform an indirect sort along the given axis (Last axis)\n",
    "    return sort_indexes[:top_n]"
   ]
  },
  {
   "cell_type": "code",
   "execution_count": 12,
   "id": "b568a91c-05bd-41ad-a563-156596d18eb3",
   "metadata": {},
   "outputs": [
    {
     "name": "stdout",
     "output_type": "stream",
     "text": [
      "Recommendations for Movie Jumanji (1995): \n",
      "\n",
      "Jumanji (1995)\n",
      "Hook (1991)\n",
      "Indian in the Cupboard, The (1995)\n",
      "NeverEnding Story II: The Next Chapter, The (1990)\n",
      "Dragonheart (1996)\n"
     ]
    },
    {
     "name": "stderr",
     "output_type": "stream",
     "text": [
      "C:\\Users\\soura\\AppData\\Local\\Temp\\ipykernel_14092\\1928412997.py:5: RuntimeWarning: invalid value encountered in divide\n",
      "  similarity = np.dot(movie_row, ratingData.T) / (magnitude[index] * magnitude)\n"
     ]
    }
   ],
   "source": [
    "k = 50\n",
    "movie_id = 2\n",
    "top_n = 5\n",
    "\n",
    "sliced = V.T[:, :k] # representative data\n",
    "indexes = similar(sliced, movie_id, top_n)\n",
    "\n",
    "print('Recommendations for Movie {0}: \\n'.format(\n",
    "movieData[movieData.movie_id == movie_id].title.values[0]))\n",
    "for id in indexes + 1:\n",
    "    print(movieData[movieData.movie_id == id].title.values[0])"
   ]
  },
  {
   "cell_type": "code",
   "execution_count": null,
   "id": "8a206c75-b6e4-4f12-8c83-88b24a92948a",
   "metadata": {},
   "outputs": [],
   "source": []
  }
 ],
 "metadata": {
  "kernelspec": {
   "display_name": "Python 3 (ipykernel)",
   "language": "python",
   "name": "python3"
  },
  "language_info": {
   "codemirror_mode": {
    "name": "ipython",
    "version": 3
   },
   "file_extension": ".py",
   "mimetype": "text/x-python",
   "name": "python",
   "nbconvert_exporter": "python",
   "pygments_lexer": "ipython3",
   "version": "3.11.7"
  }
 },
 "nbformat": 4,
 "nbformat_minor": 5
}

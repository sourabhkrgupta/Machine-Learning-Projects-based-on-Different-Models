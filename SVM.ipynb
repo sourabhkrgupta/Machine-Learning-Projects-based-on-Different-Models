{
 "cells": [
  {
   "cell_type": "code",
   "execution_count": 2,
   "id": "931c2e36-aaf5-4f1d-863a-6f7b4ecbefe2",
   "metadata": {},
   "outputs": [],
   "source": [
    "# Importing Basic Libraries\n",
    "import numpy as np\n",
    "import pandas as pd\n",
    "from sklearn.datasets import load_digits"
   ]
  },
  {
   "cell_type": "code",
   "execution_count": 8,
   "id": "a6d1a0d9-6699-4bf5-bb45-e066a30101e2",
   "metadata": {},
   "outputs": [],
   "source": [
    "# Load datasets\n",
    "dataset = load_digits()"
   ]
  },
  {
   "cell_type": "code",
   "execution_count": 10,
   "id": "6c23233f-75a4-4a85-8f36-5b20e4e173a0",
   "metadata": {},
   "outputs": [
    {
     "name": "stdout",
     "output_type": "stream",
     "text": [
      "[[ 0.  0.  5. ...  0.  0.  0.]\n",
      " [ 0.  0.  0. ... 10.  0.  0.]\n",
      " [ 0.  0.  0. ... 16.  9.  0.]\n",
      " ...\n",
      " [ 0.  0.  1. ...  6.  0.  0.]\n",
      " [ 0.  0.  2. ... 12.  0.  0.]\n",
      " [ 0.  0. 10. ... 12.  1.  0.]]\n",
      "[0 1 2 ... 8 9 8]\n",
      "(1797, 64)\n",
      "(1797, 8, 8)\n",
      "1797\n"
     ]
    }
   ],
   "source": [
    "# Summarize Datasets\n",
    "print(dataset.data)\n",
    "print(dataset.target)\n",
    "\n",
    "print(dataset.data.shape)\n",
    "print(dataset.images.shape)\n",
    "\n",
    "\n",
    "dataimageLength = len(dataset.images)\n",
    "print(dataimageLength)"
   ]
  },
  {
   "cell_type": "code",
   "execution_count": 13,
   "id": "05f85ae0-c4e1-4103-85d8-dec4db3be512",
   "metadata": {},
   "outputs": [
    {
     "data": {
      "text/plain": [
       "<Figure size 640x480 with 0 Axes>"
      ]
     },
     "metadata": {},
     "output_type": "display_data"
    },
    {
     "data": {
      "image/png": "[encoded data removed]",
      "text/plain": [
       "<Figure size 480x480 with 1 Axes>"
      ]
     },
     "metadata": {},
     "output_type": "display_data"
    },
    {
     "data": {
      "text/plain": [
       "array([[ 0.,  0.,  9., 14.,  8.,  1.,  0.,  0.],\n",
       "       [ 0.,  0., 12., 14., 14., 12.,  0.,  0.],\n",
       "       [ 0.,  0.,  9., 10.,  0., 15.,  4.,  0.],\n",
       "       [ 0.,  0.,  3., 16., 12., 14.,  2.,  0.],\n",
       "       [ 0.,  0.,  4., 16., 16.,  2.,  0.,  0.],\n",
       "       [ 0.,  3., 16.,  8., 10., 13.,  2.,  0.],\n",
       "       [ 0.,  1., 15.,  1.,  3., 16.,  8.,  0.],\n",
       "       [ 0.,  0., 11., 16., 15., 11.,  1.,  0.]])"
      ]
     },
     "execution_count": 13,
     "metadata": {},
     "output_type": "execute_result"
    }
   ],
   "source": [
    "# Visualize the Dataset\n",
    "n=8\n",
    "import matplotlib.pyplot as plt\n",
    "plt.gray()\n",
    "plt.matshow(dataset.images[n])\n",
    "plt.show()\n",
    "\n",
    "dataset.images[n]"
   ]
  },
  {
   "cell_type": "code",
   "execution_count": 14,
   "id": "ff113b56-40e7-4ac9-80d6-f1c732e51070",
   "metadata": {},
   "outputs": [
    {
     "data": {
      "text/plain": [
       "array([[ 0.,  0.,  5., ...,  0.,  0.,  0.],\n",
       "       [ 0.,  0.,  0., ..., 10.,  0.,  0.],\n",
       "       [ 0.,  0.,  0., ..., 16.,  9.,  0.],\n",
       "       ...,\n",
       "       [ 0.,  0.,  1., ...,  6.,  0.,  0.],\n",
       "       [ 0.,  0.,  2., ..., 12.,  0.,  0.],\n",
       "       [ 0.,  0., 10., ..., 12.,  1.,  0.]])"
      ]
     },
     "execution_count": 14,
     "metadata": {},
     "output_type": "execute_result"
    }
   ],
   "source": [
    "# Segregate dataset into X and y\n",
    "X= dataset.images.reshape((dataimageLength,-1))\n",
    "X"
   ]
  },
  {
   "cell_type": "code",
   "execution_count": 15,
   "id": "122693d7-fbc6-4fd4-a252-01e70a7f58e7",
   "metadata": {},
   "outputs": [
    {
     "data": {
      "text/plain": [
       "array([0, 1, 2, ..., 8, 9, 8])"
      ]
     },
     "execution_count": 15,
     "metadata": {},
     "output_type": "execute_result"
    }
   ],
   "source": [
    "Y = dataset.target\n",
    "Y"
   ]
  },
  {
   "cell_type": "code",
   "execution_count": 17,
   "id": "4b844e01-da7e-4e9c-9b5a-9d29f3820f95",
   "metadata": {},
   "outputs": [
    {
     "name": "stdout",
     "output_type": "stream",
     "text": [
      "(1347, 64)\n",
      "(450, 64)\n"
     ]
    }
   ],
   "source": [
    "# Splitting dataset into train and test\n",
    "from sklearn.model_selection import train_test_split\n",
    "X_train,X_test,y_train,y_test = train_test_split(X,Y,test_size=0.25,random_state=0)\n",
    "print(X_train.shape)\n",
    "print(X_test.shape)"
   ]
  },
  {
   "cell_type": "code",
   "execution_count": 18,
   "id": "f277b0ff-9bdd-48dc-b606-5770a9cca65e",
   "metadata": {},
   "outputs": [
    {
     "data": {
      "text/html": [
       "<style>#sk-container-id-1 {color: black;background-color: white;}#sk-container-id-1 pre{padding: 0;}#sk-container-id-1 div.sk-toggleable {background-color: white;}#sk-container-id-1 label.sk-toggleable__label {cursor: pointer;display: block;width: 100%;margin-bottom: 0;padding: 0.3em;box-sizing: border-box;text-align: center;}#sk-container-id-1 label.sk-toggleable__label-arrow:before {content: \"▸\";float: left;margin-right: 0.25em;color: #696969;}#sk-container-id-1 label.sk-toggleable__label-arrow:hover:before {color: black;}#sk-container-id-1 div.sk-estimator:hover label.sk-toggleable__label-arrow:before {color: black;}#sk-container-id-1 div.sk-toggleable__content {max-height: 0;max-width: 0;overflow: hidden;text-align: left;background-color: #f0f8ff;}#sk-container-id-1 div.sk-toggleable__content pre {margin: 0.2em;color: black;border-radius: 0.25em;background-color: #f0f8ff;}#sk-container-id-1 input.sk-toggleable__control:checked~div.sk-toggleable__content {max-height: 200px;max-width: 100%;overflow: auto;}#sk-container-id-1 input.sk-toggleable__control:checked~label.sk-toggleable__label-arrow:before {content: \"▾\";}#sk-container-id-1 div.sk-estimator input.sk-toggleable__control:checked~label.sk-toggleable__label {background-color: #d4ebff;}#sk-container-id-1 div.sk-label input.sk-toggleable__control:checked~label.sk-toggleable__label {background-color: #d4ebff;}#sk-container-id-1 input.sk-hidden--visually {border: 0;clip: rect(1px 1px 1px 1px);clip: rect(1px, 1px, 1px, 1px);height: 1px;margin: -1px;overflow: hidden;padding: 0;position: absolute;width: 1px;}#sk-container-id-1 div.sk-estimator {font-family: monospace;background-color: #f0f8ff;border: 1px dotted black;border-radius: 0.25em;box-sizing: border-box;margin-bottom: 0.5em;}#sk-container-id-1 div.sk-estimator:hover {background-color: #d4ebff;}#sk-container-id-1 div.sk-parallel-item::after {content: \"\";width: 100%;border-bottom: 1px solid gray;flex-grow: 1;}#sk-container-id-1 div.sk-label:hover label.sk-toggleable__label {background-color: #d4ebff;}#sk-container-id-1 div.sk-serial::before {content: \"\";position: absolute;border-left: 1px solid gray;box-sizing: border-box;top: 0;bottom: 0;left: 50%;z-index: 0;}#sk-container-id-1 div.sk-serial {display: flex;flex-direction: column;align-items: center;background-color: white;padding-right: 0.2em;padding-left: 0.2em;position: relative;}#sk-container-id-1 div.sk-item {position: relative;z-index: 1;}#sk-container-id-1 div.sk-parallel {display: flex;align-items: stretch;justify-content: center;background-color: white;position: relative;}#sk-container-id-1 div.sk-item::before, #sk-container-id-1 div.sk-parallel-item::before {content: \"\";position: absolute;border-left: 1px solid gray;box-sizing: border-box;top: 0;bottom: 0;left: 50%;z-index: -1;}#sk-container-id-1 div.sk-parallel-item {display: flex;flex-direction: column;z-index: 1;position: relative;background-color: white;}#sk-container-id-1 div.sk-parallel-item:first-child::after {align-self: flex-end;width: 50%;}#sk-container-id-1 div.sk-parallel-item:last-child::after {align-self: flex-start;width: 50%;}#sk-container-id-1 div.sk-parallel-item:only-child::after {width: 0;}#sk-container-id-1 div.sk-dashed-wrapped {border: 1px dashed gray;margin: 0 0.4em 0.5em 0.4em;box-sizing: border-box;padding-bottom: 0.4em;background-color: white;}#sk-container-id-1 div.sk-label label {font-family: monospace;font-weight: bold;display: inline-block;line-height: 1.2em;}#sk-container-id-1 div.sk-label-container {text-align: center;}#sk-container-id-1 div.sk-container {/* jupyter's `normalize.less` sets `[hidden] { display: none; }` but bootstrap.min.css set `[hidden] { display: none !important; }` so we also need the `!important` here to be able to override the default hidden behavior on the sphinx rendered scikit-learn.org. See: https://github.com/scikit-learn/scikit-learn/issues/21755 */display: inline-block !important;position: relative;}#sk-container-id-1 div.sk-text-repr-fallback {display: none;}</style><div id=\"sk-container-id-1\" class=\"sk-top-container\"><div class=\"sk-text-repr-fallback\"><pre>SVC(kernel=&#x27;linear&#x27;)</pre><b>In a Jupyter environment, please rerun this cell to show the HTML representation or trust the notebook. <br />On GitHub, the HTML representation is unable to render, please try loading this page with nbviewer.org.</b></div><div class=\"sk-container\" hidden><div class=\"sk-item\"><div class=\"sk-estimator sk-toggleable\"><input class=\"sk-toggleable__control sk-hidden--visually\" id=\"sk-estimator-id-1\" type=\"checkbox\" checked><label for=\"sk-estimator-id-1\" class=\"sk-toggleable__label sk-toggleable__label-arrow\">SVC</label><div class=\"sk-toggleable__content\"><pre>SVC(kernel=&#x27;linear&#x27;)</pre></div></div></div></div></div>"
      ],
      "text/plain": [
       "SVC(kernel='linear')"
      ]
     },
     "execution_count": 18,
     "metadata": {},
     "output_type": "execute_result"
    }
   ],
   "source": [
    "# training\n",
    "from sklearn import svm\n",
    "model = svm.SVC(kernel= \"linear\")\n",
    "model.fit(X_train,y_train)"
   ]
  },
  {
   "cell_type": "code",
   "execution_count": 19,
   "id": "83bb9a23-5e41-4c08-8d23-fbfa2f5c73b6",
   "metadata": {},
   "outputs": [],
   "source": [
    "# prediction for test data\n",
    "y_pred =  model.predict(X_test)"
   ]
  },
  {
   "cell_type": "code",
   "execution_count": 20,
   "id": "7a67b2a2-ddc0-4168-808f-0a56a4e1a244",
   "metadata": {},
   "outputs": [
    {
     "name": "stdout",
     "output_type": "stream",
     "text": [
      "97.11111111111111\n"
     ]
    }
   ],
   "source": [
    "# evaluate model\n",
    "from sklearn.metrics import accuracy_score\n",
    "print(accuracy_score(y_test,y_pred)*100)"
   ]
  },
  {
   "cell_type": "code",
   "execution_count": 24,
   "id": "855779fc-dd2a-4441-877a-5b3fe3b63816",
   "metadata": {},
   "outputs": [
    {
     "name": "stdout",
     "output_type": "stream",
     "text": [
      "Accuracy of Model1: 97.11111111111111%\n",
      "Accuracy of Model2: 99.11111111111111%\n",
      "Accuracy of Model3: 99.55555555555556%\n",
      "Accuracy of Model4: 96.66666666666667%\n"
     ]
    }
   ],
   "source": [
    "# tunning the parameter of SVM\n",
    "from sklearn import svm\n",
    "model1 = svm.SVC(kernel = 'linear')\n",
    "model2 = svm.SVC(kernel = 'rbf')\n",
    "model3 = svm.SVC(gamma = 0.001)\n",
    "model4 = svm.SVC(gamma= 0.001,C=0.1)\n",
    "\n",
    "model1.fit(X_train,y_train)\n",
    "model2.fit(X_train,y_train)\n",
    "model3.fit(X_train,y_train)\n",
    "model4.fit(X_train,y_train)\n",
    "\n",
    "y_predmodel1 = model1.predict(X_test)\n",
    "y_predmodel2 = model2.predict(X_test)\n",
    "y_predmodel3 = model3.predict(X_test)\n",
    "y_predmodel4 = model4.predict(X_test)\n",
    "\n",
    "print(\"Accuracy of Model1: {0}%\".format(accuracy_score(y_test,y_predmodel1)*100))\n",
    "print(\"Accuracy of Model2: {0}%\".format(accuracy_score(y_test,y_predmodel2)*100))\n",
    "print(\"Accuracy of Model3: {0}%\".format(accuracy_score(y_test,y_predmodel3)*100))\n",
    "print(\"Accuracy of Model4: {0}%\".format(accuracy_score(y_test,y_predmodel4)*100))"
   ]
  },
  {
   "cell_type": "code",
   "execution_count": 27,
   "id": "b9eace1d-10eb-45d5-a409-8fae5ce54875",
   "metadata": {},
   "outputs": [
    {
     "name": "stdout",
     "output_type": "stream",
     "text": [
      "Accuracy of Model5: 98.22222222222223%\n"
     ]
    }
   ],
   "source": [
    "model5 = svm.SVC(kernel = 'poly',gamma=0.001)\n",
    "model5.fit(X_train,y_train)\n",
    "y_predmodel5 = model5.predict(X_test)\n",
    "print(\"Accuracy of Model5: {0}%\".format(accuracy_score(y_test,y_predmodel5)*100))"
   ]
  },
  {
   "cell_type": "code",
   "execution_count": null,
   "id": "7d24b5a9-4d5a-4024-a66e-bff6ef660f84",
   "metadata": {},
   "outputs": [],
   "source": []
  }
 ],
 "metadata": {
  "kernelspec": {
   "display_name": "Python 3 (ipykernel)",
   "language": "python",
   "name": "python3"
  },
  "language_info": {
   "codemirror_mode": {
    "name": "ipython",
    "version": 3
   },
   "file_extension": ".py",
   "mimetype": "text/x-python",
   "name": "python",
   "nbconvert_exporter": "python",
   "pygments_lexer": "ipython3",
   "version": "3.11.7"
  }
 },
 "nbformat": 4,
 "nbformat_minor": 5
}
